{
 "cells": [
  {
   "cell_type": "code",
   "execution_count": 1,
   "id": "6676c425",
   "metadata": {},
   "outputs": [],
   "source": [
    "import pandas as pd\n",
    "import numpy as np\n",
    "import matplotlib.pyplot as plt\n",
    "import seaborn as sns\n",
    "%matplotlib inline"
   ]
  },
  {
   "cell_type": "code",
   "execution_count": 2,
   "id": "2e5e29cb",
   "metadata": {},
   "outputs": [
    {
     "data": {
      "text/html": [
       "<div>\n",
       "<style scoped>\n",
       "    .dataframe tbody tr th:only-of-type {\n",
       "        vertical-align: middle;\n",
       "    }\n",
       "\n",
       "    .dataframe tbody tr th {\n",
       "        vertical-align: top;\n",
       "    }\n",
       "\n",
       "    .dataframe thead th {\n",
       "        text-align: right;\n",
       "    }\n",
       "</style>\n",
       "<table border=\"1\" class=\"dataframe\">\n",
       "  <thead>\n",
       "    <tr style=\"text-align: right;\">\n",
       "      <th></th>\n",
       "      <th>Kyphosis</th>\n",
       "      <th>Age</th>\n",
       "      <th>Number</th>\n",
       "      <th>Start</th>\n",
       "    </tr>\n",
       "  </thead>\n",
       "  <tbody>\n",
       "    <tr>\n",
       "      <th>0</th>\n",
       "      <td>absent</td>\n",
       "      <td>71</td>\n",
       "      <td>3</td>\n",
       "      <td>5</td>\n",
       "    </tr>\n",
       "    <tr>\n",
       "      <th>1</th>\n",
       "      <td>absent</td>\n",
       "      <td>158</td>\n",
       "      <td>3</td>\n",
       "      <td>14</td>\n",
       "    </tr>\n",
       "    <tr>\n",
       "      <th>2</th>\n",
       "      <td>present</td>\n",
       "      <td>128</td>\n",
       "      <td>4</td>\n",
       "      <td>5</td>\n",
       "    </tr>\n",
       "    <tr>\n",
       "      <th>3</th>\n",
       "      <td>absent</td>\n",
       "      <td>2</td>\n",
       "      <td>5</td>\n",
       "      <td>1</td>\n",
       "    </tr>\n",
       "    <tr>\n",
       "      <th>4</th>\n",
       "      <td>absent</td>\n",
       "      <td>1</td>\n",
       "      <td>4</td>\n",
       "      <td>15</td>\n",
       "    </tr>\n",
       "  </tbody>\n",
       "</table>\n",
       "</div>"
      ],
      "text/plain": [
       "  Kyphosis  Age  Number  Start\n",
       "0   absent   71       3      5\n",
       "1   absent  158       3     14\n",
       "2  present  128       4      5\n",
       "3   absent    2       5      1\n",
       "4   absent    1       4     15"
      ]
     },
     "execution_count": 2,
     "metadata": {},
     "output_type": "execute_result"
    }
   ],
   "source": [
    "df = pd.read_csv('kyphosis.csv')\n",
    "df.head()"
   ]
  },
  {
   "cell_type": "code",
   "execution_count": 4,
   "id": "aca9d644",
   "metadata": {},
   "outputs": [],
   "source": [
    "from sklearn.model_selection import train_test_split"
   ]
  },
  {
   "cell_type": "code",
   "execution_count": 5,
   "id": "ef289c00",
   "metadata": {},
   "outputs": [],
   "source": [
    "X = df.drop('Kyphosis', axis=1)"
   ]
  },
  {
   "cell_type": "code",
   "execution_count": 6,
   "id": "e282b047",
   "metadata": {},
   "outputs": [],
   "source": [
    "y = df['Kyphosis']"
   ]
  },
  {
   "cell_type": "markdown",
   "id": "9dc45b2c",
   "metadata": {},
   "source": [
    "`train_test_split` select train data and test data randomly and proportionally"
   ]
  },
  {
   "cell_type": "code",
   "execution_count": 22,
   "id": "a15e106c",
   "metadata": {},
   "outputs": [],
   "source": [
    "X_train, X_test, y_train, y_test = train_test_split(X, y, test_size=0.3)"
   ]
  },
  {
   "cell_type": "code",
   "execution_count": 23,
   "id": "4510563b",
   "metadata": {},
   "outputs": [],
   "source": [
    "from sklearn.tree import DecisionTreeClassifier"
   ]
  },
  {
   "cell_type": "markdown",
   "id": "80ba8763",
   "metadata": {},
   "source": [
    "1. Create a DecisionTreeClassifier object and set parameters (optional):<br>\n",
    "\n",
    "```python\n",
    "clf = DecisionTreeClassifier(criterion='gini', max_depth=3)\n",
    "```\n",
    "\n",
    "- criterion: The quality measurement criterion for feature selection. It can be \"gini\" for Gini impurity or \"entropy\" for information gain.\n",
    "- max_depth: The maximum depth of the decision tree, which controls the complexity and generalization ability."
   ]
  },
  {
   "cell_type": "code",
   "execution_count": 24,
   "id": "fcd76d4a",
   "metadata": {},
   "outputs": [],
   "source": [
    "dtree = DecisionTreeClassifier()"
   ]
  },
  {
   "cell_type": "markdown",
   "id": "c11bd7ea",
   "metadata": {},
   "source": [
    "2. Train the model"
   ]
  },
  {
   "cell_type": "code",
   "execution_count": 25,
   "id": "17c03fe8",
   "metadata": {},
   "outputs": [
    {
     "data": {
      "text/plain": [
       "DecisionTreeClassifier()"
      ]
     },
     "execution_count": 25,
     "metadata": {},
     "output_type": "execute_result"
    }
   ],
   "source": [
    "dtree.fit(X_train, y_train)"
   ]
  },
  {
   "cell_type": "markdown",
   "id": "01a56093",
   "metadata": {},
   "source": [
    "3. Make predictions"
   ]
  },
  {
   "cell_type": "code",
   "execution_count": 26,
   "id": "d79253ea",
   "metadata": {},
   "outputs": [],
   "source": [
    "predictions = dtree.predict(X_test)"
   ]
  },
  {
   "cell_type": "markdown",
   "id": "d85ccec1",
   "metadata": {},
   "source": [
    "4. Evaluate the model performance (optional)"
   ]
  },
  {
   "cell_type": "code",
   "execution_count": 28,
   "id": "4b951900",
   "metadata": {},
   "outputs": [],
   "source": [
    "from sklearn.metrics import classification_report, confusion_matrix"
   ]
  },
  {
   "cell_type": "markdown",
   "id": "c35d7ed7",
   "metadata": {},
   "source": [
    "The first element 18 represents the count of samples where the true label is the first class and the predicted label is also the first class (True Positives).\n",
    "\n",
    "The second element 2 represents the count of samples where the true label is the first class but the predicted label is not the first class (False Negatives)."
   ]
  },
  {
   "cell_type": "code",
   "execution_count": 29,
   "id": "5bae3f93",
   "metadata": {},
   "outputs": [
    {
     "name": "stdout",
     "output_type": "stream",
     "text": [
      "[[18  2]\n",
      " [ 3  2]]\n",
      "\n",
      "\n",
      "              precision    recall  f1-score   support\n",
      "\n",
      "      absent       0.86      0.90      0.88        20\n",
      "     present       0.50      0.40      0.44         5\n",
      "\n",
      "    accuracy                           0.80        25\n",
      "   macro avg       0.68      0.65      0.66        25\n",
      "weighted avg       0.79      0.80      0.79        25\n",
      "\n"
     ]
    }
   ],
   "source": [
    "print(confusion_matrix(y_test, predictions))\n",
    "print('\\n')\n",
    "print(classification_report(y_test, predictions))"
   ]
  },
  {
   "cell_type": "code",
   "execution_count": null,
   "id": "b66b2056",
   "metadata": {},
   "outputs": [],
   "source": []
  }
 ],
 "metadata": {
  "kernelspec": {
   "display_name": "Python 3 (ipykernel)",
   "language": "python",
   "name": "python3"
  },
  "language_info": {
   "codemirror_mode": {
    "name": "ipython",
    "version": 3
   },
   "file_extension": ".py",
   "mimetype": "text/x-python",
   "name": "python",
   "nbconvert_exporter": "python",
   "pygments_lexer": "ipython3",
   "version": "3.9.12"
  }
 },
 "nbformat": 4,
 "nbformat_minor": 5
}
